{
 "cells": [
  {
   "cell_type": "code",
   "execution_count": null,
   "id": "c0485ab8-3d0e-40d6-b259-41309f3eca83",
   "metadata": {},
   "outputs": [],
   "source": [
    "import onnx\n",
    "import onnxruntime\n",
    "\n",
    "import numpy as np\n",
    "\n",
    "from PIL import Image\n",
    "import torchvision.transforms as transforms\n",
    "\n",
    "# import io\n",
    "# from torch import nn\n",
    "# import torch.utils.model_zoo as model_zoo\n",
    "# import torch.onnx"
   ]
  },
  {
   "cell_type": "code",
   "execution_count": null,
   "id": "5edda4eb-ed27-4ddd-9555-5dd6b327cdd6",
   "metadata": {},
   "outputs": [],
   "source": [
    "model = onnx.load(\"tinaface_r50_fpn_bn.onnx\")\n",
    "onnx.checker.check_model(model)"
   ]
  },
  {
   "cell_type": "code",
   "execution_count": null,
   "id": "27f93342-9d2e-42d7-b0bd-c0769054adfb",
   "metadata": {},
   "outputs": [],
   "source": [
    "ort_session = onnxruntime.InferenceSession(\"tinaface_r50_fpn_bn.onnx\")\n",
    "\n",
    "def to_numpy(tensor):\n",
    "    return tensor.detach().cpu().numpy() if tensor.requires_grad else tensor.cpu().numpy()\n",
    "\n",
    "# batch_size = 1\n",
    "# x = torch.randn(batch_size, 3, 875, 1280, requires_grad=True)\n",
    "# ort_inputs = {ort_session.get_inputs()[0].name: to_numpy(x)}\n",
    "# ort_outs = ort_session.run(None, ort_inputs)\n",
    "\n",
    "# print(\"Exported model has been tested with ONNXRuntime, and the result looks good!\")"
   ]
  },
  {
   "cell_type": "code",
   "execution_count": null,
   "id": "29528b14-9424-4fa6-8248-4619b19c137c",
   "metadata": {},
   "outputs": [],
   "source": [
    "image_name = 'images/1.hd.jpeg'\n",
    "img = Image.open(image_name)\n",
    "\n",
    "resize = transforms.Resize([875, 1280])\n",
    "img = resize(img)\n",
    "\n",
    "to_tensor = transforms.ToTensor()\n",
    "img = to_tensor(img)\n",
    "img = img.unsqueeze(0)"
   ]
  },
  {
   "cell_type": "code",
   "execution_count": null,
   "id": "25482f45-3b84-4730-9159-d602aa0fa314",
   "metadata": {},
   "outputs": [],
   "source": [
    "ort_inputs = {ort_session.get_inputs()[0].name: to_numpy(img)}\n",
    "ort_outs = ort_session.run(None, ort_inputs)"
   ]
  },
  {
   "cell_type": "code",
   "execution_count": null,
   "id": "fcc06394-d308-4188-885f-12bd5c2b29fa",
   "metadata": {},
   "outputs": [],
   "source": [
    "ort_inputs"
   ]
  },
  {
   "cell_type": "code",
   "execution_count": null,
   "id": "043b1ec7-af65-49b5-9641-a016fd581084",
   "metadata": {},
   "outputs": [],
   "source": []
  }
 ],
 "metadata": {
  "kernelspec": {
   "display_name": "Python 3",
   "language": "python",
   "name": "python3"
  },
  "language_info": {
   "codemirror_mode": {
    "name": "ipython",
    "version": 3
   },
   "file_extension": ".py",
   "mimetype": "text/x-python",
   "name": "python",
   "nbconvert_exporter": "python",
   "pygments_lexer": "ipython3",
   "version": "3.6.9"
  }
 },
 "nbformat": 4,
 "nbformat_minor": 5
}
