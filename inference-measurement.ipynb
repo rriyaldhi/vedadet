{
 "cells": [
  {
   "cell_type": "code",
   "execution_count": 1,
   "id": "fa4f6476-f442-46aa-984b-e9ad849c7a27",
   "metadata": {},
   "outputs": [],
   "source": [
    "import argparse\n",
    "\n",
    "import cv2\n",
    "import numpy as np\n",
    "import torch\n",
    "\n",
    "from vedacore.image import imread, imwrite\n",
    "from vedacore.misc import Config, color_val, load_weights\n",
    "from vedacore.parallel import collate, scatter\n",
    "from vedadet.datasets.pipelines import Compose\n",
    "from vedadet.engines import build_engine\n",
    "\n",
    "import time"
   ]
  },
  {
   "cell_type": "code",
   "execution_count": 2,
   "id": "9d0ffdde-3c9c-40b2-a844-8218ef75f91b",
   "metadata": {},
   "outputs": [],
   "source": [
    "def setup():\n",
    "    cfg = Config.fromfile('configs/infer/tinaface/tinaface_r50_fpn_gn_dcn.py')\n",
    "    device = torch.cuda.current_device()\n",
    "    engine = build_engine(cfg.infer_engine)\n",
    "\n",
    "    engine.model.to(device)\n",
    "    load_weights(engine.model, cfg.weights.filepath)\n",
    "\n",
    "    data_pipeline = Compose(cfg.data_pipeline)\n",
    "    return engine, data_pipeline, device"
   ]
  },
  {
   "cell_type": "code",
   "execution_count": 3,
   "id": "b921d09f-7838-4f2d-b60b-02cfb72b8470",
   "metadata": {},
   "outputs": [],
   "source": [
    "def detect(engine, data_pipeline, device, imgname):\n",
    "    data = dict(img_info=dict(filename=imgname), img_prefix=None)\n",
    "    data = data_pipeline(data)\n",
    "    data = collate([data], samples_per_gpu=1)\n",
    "    data = scatter(data, [device])[0]\n",
    "\n",
    "    result = engine.infer(data['img'], data['img_metas'])[0]"
   ]
  },
  {
   "cell_type": "code",
   "execution_count": 14,
   "id": "09b682ab-8338-4482-977c-027a715969c7",
   "metadata": {},
   "outputs": [],
   "source": [
    "def measure_detect(engine, data_pipeline, device, imgname):\n",
    "    sum = 0\n",
    "    n = 25\n",
    "    for i in range(n):\n",
    "        start_time = time.time()\n",
    "        detect(engine, data_pipeline, device, imgname)\n",
    "        sum += (time.time() - start_time) * 1000\n",
    "    return sum / n\n",
    "    "
   ]
  },
  {
   "cell_type": "code",
   "execution_count": 15,
   "id": "e2485227-429d-4e34-aee8-380f1757d206",
   "metadata": {},
   "outputs": [],
   "source": [
    "engine, data_pipeline, device = setup()"
   ]
  },
  {
   "cell_type": "code",
   "execution_count": 20,
   "id": "3e5bbf70-730a-4162-a581-0b00c3ebd546",
   "metadata": {},
   "outputs": [
    {
     "name": "stdout",
     "output_type": "stream",
     "text": [
      "360\n",
      "Single Face: 478.89771461486816 ms\n",
      "Multiple Faces: 487.8075408935547 ms\n"
     ]
    }
   ],
   "source": [
    "single_face_execution_time = measure_detect(engine, data_pipeline, device, 'images/1.360.jpeg')\n",
    "multiple_faces_execution_time = measure_detect(engine, data_pipeline, device, 'images/2.360.jpeg')\n",
    "print(\"360\\nSingle Face: %s ms\\nMultiple Faces: %s ms\" %(single_face_execution_time, multiple_faces_execution_time))"
   ]
  },
  {
   "cell_type": "code",
   "execution_count": 21,
   "id": "9d3d74ce-221e-443e-80db-543521e9db70",
   "metadata": {},
   "outputs": [
    {
     "name": "stdout",
     "output_type": "stream",
     "text": [
      "SD\n",
      "Single Face: 488.17490577697754 ms\n",
      "Multiple Faces: 501.1666774749756 ms\n"
     ]
    }
   ],
   "source": [
    "single_face_execution_time = measure_detect(engine, data_pipeline, device, 'images/1.sd.jpeg')\n",
    "multiple_faces_execution_time = measure_detect(engine, data_pipeline, device, 'images/2.sd.jpeg')\n",
    "print(\"SD\\nSingle Face: %s ms\\nMultiple Faces: %s ms\" %(single_face_execution_time, multiple_faces_execution_time))"
   ]
  },
  {
   "cell_type": "code",
   "execution_count": 22,
   "id": "3c96bff3-6e63-4c1a-989c-999d116a107b",
   "metadata": {},
   "outputs": [
    {
     "name": "stdout",
     "output_type": "stream",
     "text": [
      "HD\n",
      "Single Face: 495.3373336791992 ms\n",
      "Multiple Faces: 505.45223236083984 ms\n"
     ]
    }
   ],
   "source": [
    "single_face_execution_time = measure_detect(engine, data_pipeline, device, 'images/1.hd.jpeg')\n",
    "multiple_faces_execution_time = measure_detect(engine, data_pipeline, device, 'images/2.hd.jpeg')\n",
    "print(\"HD\\nSingle Face: %s ms\\nMultiple Faces: %s ms\" %(single_face_execution_time, multiple_faces_execution_time))"
   ]
  },
  {
   "cell_type": "code",
   "execution_count": 23,
   "id": "ef993dec-dee5-42cb-9869-89a14f86abc7",
   "metadata": {},
   "outputs": [
    {
     "name": "stdout",
     "output_type": "stream",
     "text": [
      "Full HD\n",
      "Single Face: 504.89065170288086 ms\n",
      "Multiple Faces: 516.646900177002 ms\n"
     ]
    }
   ],
   "source": [
    "single_face_execution_time = measure_detect(engine, data_pipeline, device, 'images/1.fullhd.jpeg')\n",
    "multiple_faces_execution_time = measure_detect(engine, data_pipeline, device, 'images/2.fullhd.jpeg')\n",
    "print(\"Full HD\\nSingle Face: %s ms\\nMultiple Faces: %s ms\" %(single_face_execution_time, multiple_faces_execution_time))"
   ]
  },
  {
   "cell_type": "code",
   "execution_count": 24,
   "id": "8bfea6d5-d2a5-4000-8ce9-5cd1ef43636f",
   "metadata": {},
   "outputs": [
    {
     "name": "stdout",
     "output_type": "stream",
     "text": [
      "4K\n",
      "Single Face: 585.107307434082 ms\n",
      "Multiple Faces: 607.2097778320312 ms\n"
     ]
    }
   ],
   "source": [
    "single_face_execution_time = measure_detect(engine, data_pipeline, device, 'images/1.4k.jpeg')\n",
    "multiple_faces_execution_time = measure_detect(engine, data_pipeline, device, 'images/2.4k.jpeg')\n",
    "print(\"4K\\nSingle Face: %s ms\\nMultiple Faces: %s ms\" %(single_face_execution_time, multiple_faces_execution_time))"
   ]
  },
  {
   "cell_type": "code",
   "execution_count": null,
   "id": "6a14c003-b436-4d1e-b2bc-228600b95252",
   "metadata": {},
   "outputs": [],
   "source": []
  }
 ],
 "metadata": {
  "kernelspec": {
   "display_name": "Python 3",
   "language": "python",
   "name": "python3"
  },
  "language_info": {
   "codemirror_mode": {
    "name": "ipython",
    "version": 3
   },
   "file_extension": ".py",
   "mimetype": "text/x-python",
   "name": "python",
   "nbconvert_exporter": "python",
   "pygments_lexer": "ipython3",
   "version": "3.6.9"
  }
 },
 "nbformat": 4,
 "nbformat_minor": 5
}
